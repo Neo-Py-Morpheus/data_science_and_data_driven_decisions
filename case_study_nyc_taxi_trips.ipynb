{
 "cells": [
  {
   "cell_type": "markdown",
   "metadata": {
    "collapsed": true
   },
   "source": [
    "# Case Study 6.1 - NYC Taxi Trips"
   ]
  },
  {
   "cell_type": "markdown",
   "metadata": {},
   "source": [
    "# Identification Information"
   ]
  },
  {
   "cell_type": "code",
   "execution_count": 1,
   "metadata": {
    "collapsed": true
   },
   "outputs": [],
   "source": [
    "# YOUR NAME              = Qi Guo\n",
    "# YOUR MITX PRO USERNAME = guoqi228\n",
    "# YOUR MITX PRO E-MAIL   = guoqi228@gmail.com"
   ]
  },
  {
   "cell_type": "markdown",
   "metadata": {},
   "source": [
    "# Setup"
   ]
  },
  {
   "cell_type": "markdown",
   "metadata": {},
   "source": [
    "Run these cells to install all the packages you need to complete the remainder of the case study. This may take a few minutes, so please be patient."
   ]
  },
  {
   "cell_type": "code",
   "execution_count": 2,
   "metadata": {
    "collapsed": false
   },
   "outputs": [
    {
     "name": "stdout",
     "output_type": "stream",
     "text": [
      "Collecting featuretools==0.1.19\n",
      "\u001b[?25l  Downloading https://files.pythonhosted.org/packages/07/c5/ebfd50f1b824355bc8f965f3a755fc30c1d2e172f143a15c6601c9611118/featuretools-0.1.19.tar.gz (133kB)\n",
      "\u001b[K    100% |████████████████████████████████| 143kB 2.6MB/s ta 0:00:01\n",
      "\u001b[?25hRequirement already satisfied: numpy>=1.13.3 in /home/nbuser/anaconda3_501/lib/python3.6/site-packages (from featuretools==0.1.19) (1.14.5)\n",
      "Collecting scipy>=1.0.0 (from featuretools==0.1.19)\n",
      "\u001b[?25l  Downloading https://files.pythonhosted.org/packages/a8/0b/f163da98d3a01b3e0ef1cab8dd2123c34aee2bafbb1c5bffa354cc8a1730/scipy-1.1.0-cp36-cp36m-manylinux1_x86_64.whl (31.2MB)\n",
      "\u001b[K    100% |████████████████████████████████| 31.2MB 21kB/s eta 0:00:01    16% |█████▍                          | 5.3MB 3.8MB/s eta 0:00:07    27% |████████▉                       | 8.7MB 4.0MB/s eta 0:00:06    46% |██████████████▉                 | 14.4MB 2.6MB/s eta 0:00:07    52% |████████████████▉               | 16.4MB 2.1MB/s eta 0:00:08    78% |█████████████████████████       | 24.4MB 2.4MB/s eta 0:00:03    87% |████████████████████████████    | 27.3MB 2.5MB/s eta 0:00:02    90% |█████████████████████████████   | 28.2MB 3.8MB/s eta 0:00:01    92% |█████████████████████████████▌  | 28.7MB 2.4MB/s eta 0:00:02    94% |██████████████████████████████▍ | 29.6MB 4.9MB/s eta 0:00:01\n",
      "\u001b[?25hRequirement already satisfied: pandas>=0.20.3 in /home/nbuser/anaconda3_501/lib/python3.6/site-packages (from featuretools==0.1.19) (0.20.3)\n",
      "Collecting s3fs>=0.1.2 (from featuretools==0.1.19)\n",
      "  Downloading https://files.pythonhosted.org/packages/45/5f/c4a127ef4d50f12340fc3fe1646923dbaf82c82b6a150bbceb162c140a8a/s3fs-0.1.5.tar.gz\n",
      "Requirement already satisfied: tqdm>=4.19.2 in /home/nbuser/anaconda3_501/lib/python3.6/site-packages (from featuretools==0.1.19) (4.23.4)\n",
      "Requirement already satisfied: toolz>=0.8.2 in /home/nbuser/anaconda3_501/lib/python3.6/site-packages (from featuretools==0.1.19) (0.8.2)\n",
      "Requirement already satisfied: pyyaml>=3.12 in /home/nbuser/anaconda3_501/lib/python3.6/site-packages (from featuretools==0.1.19) (3.12)\n",
      "Requirement already satisfied: cloudpickle>=0.4.0 in /home/nbuser/anaconda3_501/lib/python3.6/site-packages (from featuretools==0.1.19) (0.4.0)\n",
      "Requirement already satisfied: future>=0.16.0 in /home/nbuser/anaconda3_501/lib/python3.6/site-packages (from featuretools==0.1.19) (0.16.0)\n",
      "Requirement already satisfied: pympler>=0.5 in /home/nbuser/anaconda3_501/lib/python3.6/site-packages (from featuretools==0.1.19) (0.5)\n",
      "Requirement already satisfied: python-dateutil>=2 in /home/nbuser/anaconda3_501/lib/python3.6/site-packages (from pandas>=0.20.3->featuretools==0.1.19) (2.6.1)\n",
      "Requirement already satisfied: pytz>=2011k in /home/nbuser/anaconda3_501/lib/python3.6/site-packages (from pandas>=0.20.3->featuretools==0.1.19) (2017.2)\n",
      "Requirement already satisfied: botocore in /home/nbuser/anaconda3_501/lib/python3.6/site-packages (from s3fs>=0.1.2->featuretools==0.1.19) (1.8.50)\n",
      "Requirement already satisfied: boto3 in /home/nbuser/anaconda3_501/lib/python3.6/site-packages (from s3fs>=0.1.2->featuretools==0.1.19) (1.4.8)\n",
      "Requirement already satisfied: six>=1.5 in /home/nbuser/anaconda3_501/lib/python3.6/site-packages (from python-dateutil>=2->pandas>=0.20.3->featuretools==0.1.19) (1.11.0)\n",
      "Requirement already satisfied: jmespath<1.0.0,>=0.7.1 in /home/nbuser/anaconda3_501/lib/python3.6/site-packages (from botocore->s3fs>=0.1.2->featuretools==0.1.19) (0.9.3)\n",
      "Requirement already satisfied: docutils>=0.10 in /home/nbuser/anaconda3_501/lib/python3.6/site-packages (from botocore->s3fs>=0.1.2->featuretools==0.1.19) (0.14)\n",
      "Requirement already satisfied: s3transfer<0.2.0,>=0.1.10 in /home/nbuser/anaconda3_501/lib/python3.6/site-packages (from boto3->s3fs>=0.1.2->featuretools==0.1.19) (0.1.13)\n",
      "Building wheels for collected packages: featuretools, s3fs\n",
      "  Running setup.py bdist_wheel for featuretools ... \u001b[?25ldone\n",
      "\u001b[?25h  Stored in directory: /home/nbuser/.cache/pip/wheels/2b/71/de/99b59608fad48046821e6c3a5585cd8797ee02e2c8e53e9d62\n",
      "  Running setup.py bdist_wheel for s3fs ... \u001b[?25ldone\n",
      "\u001b[?25h  Stored in directory: /home/nbuser/.cache/pip/wheels/ce/ad/af/891f2ad3a0702ce5064c382ea50d4502315443f25c1f3842cf\n",
      "Successfully built featuretools s3fs\n",
      "\u001b[31mazure-datalake-store 0.0.19 has requirement msrest~=0.4.5, but you'll have msrest 0.5.0 which is incompatible.\u001b[0m\n",
      "Installing collected packages: scipy, s3fs, featuretools\n",
      "  Found existing installation: scipy 0.19.1\n",
      "    Uninstalling scipy-0.19.1:\n",
      "      Successfully uninstalled scipy-0.19.1\n",
      "Successfully installed featuretools-0.1.19 s3fs-0.1.5 scipy-1.1.0\n"
     ]
    }
   ],
   "source": [
    "!pip install featuretools==0.1.19"
   ]
  },
  {
   "cell_type": "markdown",
   "metadata": {},
   "source": [
    "# Import"
   ]
  },
  {
   "cell_type": "markdown",
   "metadata": {},
   "source": [
    "Import the required tools into the notebook."
   ]
  },
  {
   "cell_type": "code",
   "execution_count": 3,
   "metadata": {
    "collapsed": false
   },
   "outputs": [
    {
     "name": "stderr",
     "output_type": "stream",
     "text": [
      "/home/nbuser/anaconda3_501/lib/python3.6/site-packages/matplotlib/font_manager.py:281: UserWarning: Matplotlib is building the font cache using fc-list. This may take a moment.\n",
      "  'Matplotlib is building the font cache using fc-list. '\n"
     ]
    }
   ],
   "source": [
    "import featuretools as ft\n",
    "import matplotlib\n",
    "import matplotlib.pyplot as plt\n",
    "import numpy as np\n",
    "import utils\n",
    "from featuretools.primitives import (Count, Day, Hour, Max, Mean, Median, Min,\n",
    "                                     Minute, Month, Std, Sum, Week, Weekday,\n",
    "                                     Weekend)\n",
    "from sklearn.ensemble import GradientBoostingRegressor\n",
    "from utils import (compute_features, feature_importances, load_nyc_taxi_data,\n",
    "                   preview)"
   ]
  },
  {
   "cell_type": "code",
   "execution_count": 4,
   "metadata": {
    "collapsed": true
   },
   "outputs": [],
   "source": [
    "%matplotlib inline"
   ]
  },
  {
   "cell_type": "code",
   "execution_count": 5,
   "metadata": {
    "collapsed": true
   },
   "outputs": [],
   "source": [
    "assert ft.__version__ == '0.1.19', 'Make sure you run the command above with the correct version.'"
   ]
  },
  {
   "cell_type": "markdown",
   "metadata": {},
   "source": [
    "# Data"
   ]
  },
  {
   "cell_type": "markdown",
   "metadata": {},
   "source": [
    "Load the NYC taxi trip data. Note that this may take a minute or two, so please be patient."
   ]
  },
  {
   "cell_type": "code",
   "execution_count": 6,
   "metadata": {
    "collapsed": false
   },
   "outputs": [
    {
     "data": {
      "text/html": [
       "<div>\n",
       "<style>\n",
       "    .dataframe thead tr:only-child th {\n",
       "        text-align: right;\n",
       "    }\n",
       "\n",
       "    .dataframe thead th {\n",
       "        text-align: left;\n",
       "    }\n",
       "\n",
       "    .dataframe tbody tr th {\n",
       "        vertical-align: top;\n",
       "    }\n",
       "</style>\n",
       "<table border=\"1\" class=\"dataframe\">\n",
       "  <thead>\n",
       "    <tr style=\"text-align: right;\">\n",
       "      <th></th>\n",
       "      <th>id</th>\n",
       "      <th>vendor_id</th>\n",
       "      <th>pickup_datetime</th>\n",
       "      <th>dropoff_datetime</th>\n",
       "      <th>passenger_count</th>\n",
       "      <th>trip_distance</th>\n",
       "      <th>pickup_longitude</th>\n",
       "      <th>pickup_latitude</th>\n",
       "      <th>dropoff_longitude</th>\n",
       "      <th>dropoff_latitude</th>\n",
       "      <th>payment_type</th>\n",
       "      <th>trip_duration</th>\n",
       "      <th>pickup_neighborhood</th>\n",
       "      <th>dropoff_neighborhood</th>\n",
       "    </tr>\n",
       "  </thead>\n",
       "  <tbody>\n",
       "    <tr>\n",
       "      <th>0</th>\n",
       "      <td>514030</td>\n",
       "      <td>2</td>\n",
       "      <td>2016-04-02 00:00:00</td>\n",
       "      <td>2016-04-02 00:17:00</td>\n",
       "      <td>1</td>\n",
       "      <td>2.46</td>\n",
       "      <td>-73.987595</td>\n",
       "      <td>40.754711</td>\n",
       "      <td>-73.959633</td>\n",
       "      <td>40.762836</td>\n",
       "      <td>1</td>\n",
       "      <td>1039</td>\n",
       "      <td>AA</td>\n",
       "      <td>K</td>\n",
       "    </tr>\n",
       "    <tr>\n",
       "      <th>1</th>\n",
       "      <td>514031</td>\n",
       "      <td>1</td>\n",
       "      <td>2016-04-02 00:00:00</td>\n",
       "      <td>2016-04-02 00:24:00</td>\n",
       "      <td>2</td>\n",
       "      <td>7.90</td>\n",
       "      <td>-73.924713</td>\n",
       "      <td>40.745567</td>\n",
       "      <td>-73.972763</td>\n",
       "      <td>40.793354</td>\n",
       "      <td>1</td>\n",
       "      <td>1454</td>\n",
       "      <td>L</td>\n",
       "      <td>U</td>\n",
       "    </tr>\n",
       "    <tr>\n",
       "      <th>2</th>\n",
       "      <td>514032</td>\n",
       "      <td>1</td>\n",
       "      <td>2016-04-02 00:00:00</td>\n",
       "      <td>2016-04-02 00:19:00</td>\n",
       "      <td>1</td>\n",
       "      <td>1.00</td>\n",
       "      <td>-73.989800</td>\n",
       "      <td>40.732994</td>\n",
       "      <td>-74.000557</td>\n",
       "      <td>40.742622</td>\n",
       "      <td>1</td>\n",
       "      <td>1168</td>\n",
       "      <td>H</td>\n",
       "      <td>Q</td>\n",
       "    </tr>\n",
       "    <tr>\n",
       "      <th>3</th>\n",
       "      <td>514033</td>\n",
       "      <td>2</td>\n",
       "      <td>2016-04-02 00:00:00</td>\n",
       "      <td>2016-04-02 00:01:00</td>\n",
       "      <td>1</td>\n",
       "      <td>0.02</td>\n",
       "      <td>-73.987465</td>\n",
       "      <td>40.719822</td>\n",
       "      <td>-73.987289</td>\n",
       "      <td>40.720016</td>\n",
       "      <td>2</td>\n",
       "      <td>35</td>\n",
       "      <td>AC</td>\n",
       "      <td>AC</td>\n",
       "    </tr>\n",
       "    <tr>\n",
       "      <th>4</th>\n",
       "      <td>514034</td>\n",
       "      <td>1</td>\n",
       "      <td>2016-04-02 00:01:00</td>\n",
       "      <td>2016-04-02 00:58:00</td>\n",
       "      <td>2</td>\n",
       "      <td>19.00</td>\n",
       "      <td>-73.790131</td>\n",
       "      <td>40.643429</td>\n",
       "      <td>-73.975594</td>\n",
       "      <td>40.779327</td>\n",
       "      <td>1</td>\n",
       "      <td>3470</td>\n",
       "      <td>G</td>\n",
       "      <td>I</td>\n",
       "    </tr>\n",
       "    <tr>\n",
       "      <th>5</th>\n",
       "      <td>514035</td>\n",
       "      <td>1</td>\n",
       "      <td>2016-04-02 00:01:00</td>\n",
       "      <td>2016-04-02 00:09:00</td>\n",
       "      <td>2</td>\n",
       "      <td>1.50</td>\n",
       "      <td>-73.981956</td>\n",
       "      <td>40.765518</td>\n",
       "      <td>-73.968124</td>\n",
       "      <td>40.753407</td>\n",
       "      <td>1</td>\n",
       "      <td>458</td>\n",
       "      <td>AR</td>\n",
       "      <td>N</td>\n",
       "    </tr>\n",
       "    <tr>\n",
       "      <th>6</th>\n",
       "      <td>514036</td>\n",
       "      <td>1</td>\n",
       "      <td>2016-04-02 00:01:00</td>\n",
       "      <td>2016-04-02 00:05:00</td>\n",
       "      <td>1</td>\n",
       "      <td>1.50</td>\n",
       "      <td>-73.980019</td>\n",
       "      <td>40.780594</td>\n",
       "      <td>-73.968132</td>\n",
       "      <td>40.799595</td>\n",
       "      <td>2</td>\n",
       "      <td>213</td>\n",
       "      <td>AV</td>\n",
       "      <td>U</td>\n",
       "    </tr>\n",
       "    <tr>\n",
       "      <th>7</th>\n",
       "      <td>514037</td>\n",
       "      <td>1</td>\n",
       "      <td>2016-04-02 00:01:00</td>\n",
       "      <td>2016-04-02 00:20:00</td>\n",
       "      <td>1</td>\n",
       "      <td>4.20</td>\n",
       "      <td>-73.990501</td>\n",
       "      <td>40.756561</td>\n",
       "      <td>-73.986008</td>\n",
       "      <td>40.719414</td>\n",
       "      <td>2</td>\n",
       "      <td>1142</td>\n",
       "      <td>AA</td>\n",
       "      <td>AC</td>\n",
       "    </tr>\n",
       "    <tr>\n",
       "      <th>8</th>\n",
       "      <td>514038</td>\n",
       "      <td>1</td>\n",
       "      <td>2016-04-02 00:01:00</td>\n",
       "      <td>2016-04-02 00:10:00</td>\n",
       "      <td>1</td>\n",
       "      <td>0.60</td>\n",
       "      <td>-73.986198</td>\n",
       "      <td>40.730492</td>\n",
       "      <td>-73.991798</td>\n",
       "      <td>40.722240</td>\n",
       "      <td>1</td>\n",
       "      <td>501</td>\n",
       "      <td>AT</td>\n",
       "      <td>AC</td>\n",
       "    </tr>\n",
       "    <tr>\n",
       "      <th>9</th>\n",
       "      <td>514039</td>\n",
       "      <td>1</td>\n",
       "      <td>2016-04-02 00:01:00</td>\n",
       "      <td>2016-04-02 00:17:00</td>\n",
       "      <td>1</td>\n",
       "      <td>0.60</td>\n",
       "      <td>-73.990959</td>\n",
       "      <td>40.734890</td>\n",
       "      <td>-74.001816</td>\n",
       "      <td>40.739319</td>\n",
       "      <td>1</td>\n",
       "      <td>954</td>\n",
       "      <td>R</td>\n",
       "      <td>Q</td>\n",
       "    </tr>\n",
       "  </tbody>\n",
       "</table>\n",
       "</div>"
      ],
      "text/plain": [
       "       id  vendor_id     pickup_datetime    dropoff_datetime  passenger_count  \\\n",
       "0  514030          2 2016-04-02 00:00:00 2016-04-02 00:17:00                1   \n",
       "1  514031          1 2016-04-02 00:00:00 2016-04-02 00:24:00                2   \n",
       "2  514032          1 2016-04-02 00:00:00 2016-04-02 00:19:00                1   \n",
       "3  514033          2 2016-04-02 00:00:00 2016-04-02 00:01:00                1   \n",
       "4  514034          1 2016-04-02 00:01:00 2016-04-02 00:58:00                2   \n",
       "5  514035          1 2016-04-02 00:01:00 2016-04-02 00:09:00                2   \n",
       "6  514036          1 2016-04-02 00:01:00 2016-04-02 00:05:00                1   \n",
       "7  514037          1 2016-04-02 00:01:00 2016-04-02 00:20:00                1   \n",
       "8  514038          1 2016-04-02 00:01:00 2016-04-02 00:10:00                1   \n",
       "9  514039          1 2016-04-02 00:01:00 2016-04-02 00:17:00                1   \n",
       "\n",
       "   trip_distance  pickup_longitude  pickup_latitude  dropoff_longitude  \\\n",
       "0           2.46        -73.987595        40.754711         -73.959633   \n",
       "1           7.90        -73.924713        40.745567         -73.972763   \n",
       "2           1.00        -73.989800        40.732994         -74.000557   \n",
       "3           0.02        -73.987465        40.719822         -73.987289   \n",
       "4          19.00        -73.790131        40.643429         -73.975594   \n",
       "5           1.50        -73.981956        40.765518         -73.968124   \n",
       "6           1.50        -73.980019        40.780594         -73.968132   \n",
       "7           4.20        -73.990501        40.756561         -73.986008   \n",
       "8           0.60        -73.986198        40.730492         -73.991798   \n",
       "9           0.60        -73.990959        40.734890         -74.001816   \n",
       "\n",
       "   dropoff_latitude payment_type  trip_duration pickup_neighborhood  \\\n",
       "0         40.762836            1           1039                  AA   \n",
       "1         40.793354            1           1454                   L   \n",
       "2         40.742622            1           1168                   H   \n",
       "3         40.720016            2             35                  AC   \n",
       "4         40.779327            1           3470                   G   \n",
       "5         40.753407            1            458                  AR   \n",
       "6         40.799595            2            213                  AV   \n",
       "7         40.719414            2           1142                  AA   \n",
       "8         40.722240            1            501                  AT   \n",
       "9         40.739319            1            954                   R   \n",
       "\n",
       "  dropoff_neighborhood  \n",
       "0                    K  \n",
       "1                    U  \n",
       "2                    Q  \n",
       "3                   AC  \n",
       "4                    I  \n",
       "5                    N  \n",
       "6                    U  \n",
       "7                   AC  \n",
       "8                   AC  \n",
       "9                    Q  "
      ]
     },
     "execution_count": 6,
     "metadata": {},
     "output_type": "execute_result"
    }
   ],
   "source": [
    "trips, pickup_neighborhoods, dropoff_neighborhoods = load_nyc_taxi_data()\n",
    "preview(trips, 10)"
   ]
  },
  {
   "cell_type": "markdown",
   "metadata": {},
   "source": [
    "We can also plot some aspects of the data to get a better sense of its distributions. For instance, here is the `trip_duration` variable we are going to try to predict."
   ]
  },
  {
   "cell_type": "code",
   "execution_count": 7,
   "metadata": {
    "collapsed": false
   },
   "outputs": [
    {
     "data": {
      "image/png": "[encoded data removed]",
      "text/plain": [
       "<matplotlib.figure.Figure at 0x7fe5d9119a90>"
      ]
     },
     "metadata": {},
     "output_type": "display_data"
    }
   ],
   "source": [
    "trips.trip_duration.hist()\n",
    "plt.xlabel('Trip Duration in Seconds')\n",
    "plt.ylabel('Number of Trips')\n",
    "plt.suptitle('Trip Duration Distribution')\n",
    "plt.show()"
   ]
  },
  {
   "cell_type": "code",
   "execution_count": 8,
   "metadata": {
    "collapsed": false
   },
   "outputs": [
    {
     "data": {
      "text/plain": [
       "10000"
      ]
     },
     "execution_count": 8,
     "metadata": {},
     "output_type": "execute_result"
    }
   ],
   "source": [
    "trips.shape[0]  # Tells us how many trips are in the dataset"
   ]
  },
  {
   "cell_type": "markdown",
   "metadata": {},
   "source": [
    "<h1 style=\"color:red;\">QUESTION 1: DATA ANALYSIS</h1>"
   ]
  },
  {
   "cell_type": "markdown",
   "metadata": {},
   "source": [
    "**Describe the dataset. How many trips are in the dataset? How would you describe the distribution of trip durations? Is there anything else we should observe? Make sure the histogram is visible in the notebook.**"
   ]
  },
  {
   "cell_type": "markdown",
   "metadata": {},
   "source": [
    "*Type your response here...*\n",
    "#### There are 10,000 trips in the dataset. The trip duration is mainly distributed between 0 and 1,000 seconds, which is about 70% of total trips. Trip duration around 500 seconds is more than 30% of total trips. When trip duration exceed 1500 seconds, the number become less and less. "
   ]
  },
  {
   "cell_type": "markdown",
   "metadata": {},
   "source": [
    "# Entities and Relationships"
   ]
  },
  {
   "cell_type": "code",
   "execution_count": 9,
   "metadata": {
    "collapsed": true
   },
   "outputs": [],
   "source": [
    "entities = {\n",
    "    \"trips\": (trips, \"id\", 'pickup_datetime'),\n",
    "    \"pickup_neighborhoods\": (pickup_neighborhoods, \"neighborhood_id\"),\n",
    "    \"dropoff_neighborhoods\": (dropoff_neighborhoods, \"neighborhood_id\"),\n",
    "}\n",
    "\n",
    "relationships = [(\"pickup_neighborhoods\", \"neighborhood_id\", \"trips\", \"pickup_neighborhood\"),\n",
    "                 (\"dropoff_neighborhoods\", \"neighborhood_id\", \"trips\", \"dropoff_neighborhood\")]"
   ]
  },
  {
   "cell_type": "markdown",
   "metadata": {},
   "source": [
    "# Transform Primitives"
   ]
  },
  {
   "cell_type": "code",
   "execution_count": 10,
   "metadata": {
    "collapsed": true
   },
   "outputs": [],
   "source": [
    "trans_primitives = [Weekend]\n",
    "\n",
    "# This may take some time to compute\n",
    "features = ft.dfs(entities=entities,\n",
    "                  relationships=relationships,\n",
    "                  target_entity=\"trips\",\n",
    "                  trans_primitives=trans_primitives,\n",
    "                  agg_primitives=[],\n",
    "                  ignore_variables={\"trips\": [\"pickup_latitude\", \"pickup_longitude\",\n",
    "                                              \"dropoff_latitude\", \"dropoff_longitude\"]},\n",
    "                  features_only=True)"
   ]
  },
  {
   "cell_type": "markdown",
   "metadata": {},
   "source": [
    "Here are the features that we just created. Note: This list may contain the `trip_duration` variable. But, rest assured that we will not actually use this variable in training. Our code removes that variable in `utils.py`."
   ]
  },
  {
   "cell_type": "code",
   "execution_count": 11,
   "metadata": {
    "collapsed": false
   },
   "outputs": [
    {
     "name": "stdout",
     "output_type": "stream",
     "text": [
      "Number of features: 13\n"
     ]
    },
    {
     "data": {
      "text/plain": [
       "[<Feature: vendor_id>,\n",
       " <Feature: passenger_count>,\n",
       " <Feature: trip_distance>,\n",
       " <Feature: payment_type>,\n",
       " <Feature: trip_duration>,\n",
       " <Feature: pickup_neighborhood>,\n",
       " <Feature: dropoff_neighborhood>,\n",
       " <Feature: IS_WEEKEND(pickup_datetime)>,\n",
       " <Feature: IS_WEEKEND(dropoff_datetime)>,\n",
       " <Feature: pickup_neighborhoods.latitude>,\n",
       " <Feature: pickup_neighborhoods.longitude>,\n",
       " <Feature: dropoff_neighborhoods.latitude>,\n",
       " <Feature: dropoff_neighborhoods.longitude>]"
      ]
     },
     "execution_count": 11,
     "metadata": {},
     "output_type": "execute_result"
    }
   ],
   "source": [
    "print(f\"Number of features: {len(features)}\")\n",
    "features"
   ]
  },
  {
   "cell_type": "markdown",
   "metadata": {},
   "source": [
    "Finally, we compute the feature matrix from these features."
   ]
  },
  {
   "cell_type": "code",
   "execution_count": 12,
   "metadata": {
    "collapsed": false
   },
   "outputs": [
    {
     "name": "stdout",
     "output_type": "stream",
     "text": [
      "Elapsed: 00:03 | Remaining: 00:00 | Progress: 100%|██████████|| Calculated: 1/1 cutoff times\n",
      "Finishing computing...\n"
     ]
    },
    {
     "data": {
      "text/html": [
       "<div>\n",
       "<style>\n",
       "    .dataframe thead tr:only-child th {\n",
       "        text-align: right;\n",
       "    }\n",
       "\n",
       "    .dataframe thead th {\n",
       "        text-align: left;\n",
       "    }\n",
       "\n",
       "    .dataframe tbody tr th {\n",
       "        vertical-align: top;\n",
       "    }\n",
       "</style>\n",
       "<table border=\"1\" class=\"dataframe\">\n",
       "  <thead>\n",
       "    <tr style=\"text-align: right;\">\n",
       "      <th></th>\n",
       "      <th>trip_distance</th>\n",
       "      <th>trip_duration</th>\n",
       "      <th>IS_WEEKEND(dropoff_datetime)</th>\n",
       "      <th>dropoff_neighborhood = D</th>\n",
       "      <th>dropoff_neighborhood = AA</th>\n",
       "      <th>dropoff_neighborhood = H</th>\n",
       "      <th>dropoff_neighborhood = P</th>\n",
       "      <th>dropoff_neighborhood = AR</th>\n",
       "      <th>dropoff_neighborhood = AD</th>\n",
       "      <th>dropoff_neighborhood = A</th>\n",
       "      <th>...</th>\n",
       "      <th>pickup_neighborhood = AO</th>\n",
       "      <th>pickup_neighborhood = AD</th>\n",
       "      <th>pickup_neighborhood = Q</th>\n",
       "      <th>pickup_neighborhood = AR</th>\n",
       "      <th>pickup_neighborhood = AP</th>\n",
       "      <th>pickup_neighborhood = H</th>\n",
       "      <th>pickup_neighborhoods.latitude</th>\n",
       "      <th>IS_WEEKEND(pickup_datetime)</th>\n",
       "      <th>dropoff_neighborhoods.latitude</th>\n",
       "      <th>vendor_id</th>\n",
       "    </tr>\n",
       "    <tr>\n",
       "      <th>id</th>\n",
       "      <th></th>\n",
       "      <th></th>\n",
       "      <th></th>\n",
       "      <th></th>\n",
       "      <th></th>\n",
       "      <th></th>\n",
       "      <th></th>\n",
       "      <th></th>\n",
       "      <th></th>\n",
       "      <th></th>\n",
       "      <th></th>\n",
       "      <th></th>\n",
       "      <th></th>\n",
       "      <th></th>\n",
       "      <th></th>\n",
       "      <th></th>\n",
       "      <th></th>\n",
       "      <th></th>\n",
       "      <th></th>\n",
       "      <th></th>\n",
       "      <th></th>\n",
       "    </tr>\n",
       "  </thead>\n",
       "  <tbody>\n",
       "    <tr>\n",
       "      <th>514030</th>\n",
       "      <td>2.46</td>\n",
       "      <td>1039</td>\n",
       "      <td>True</td>\n",
       "      <td>0</td>\n",
       "      <td>0</td>\n",
       "      <td>0</td>\n",
       "      <td>0</td>\n",
       "      <td>0</td>\n",
       "      <td>0</td>\n",
       "      <td>0</td>\n",
       "      <td>...</td>\n",
       "      <td>0</td>\n",
       "      <td>0</td>\n",
       "      <td>0</td>\n",
       "      <td>0</td>\n",
       "      <td>0</td>\n",
       "      <td>0</td>\n",
       "      <td>40.757707</td>\n",
       "      <td>True</td>\n",
       "      <td>40.766809</td>\n",
       "      <td>2</td>\n",
       "    </tr>\n",
       "    <tr>\n",
       "      <th>514031</th>\n",
       "      <td>7.90</td>\n",
       "      <td>1454</td>\n",
       "      <td>True</td>\n",
       "      <td>0</td>\n",
       "      <td>0</td>\n",
       "      <td>0</td>\n",
       "      <td>0</td>\n",
       "      <td>0</td>\n",
       "      <td>0</td>\n",
       "      <td>0</td>\n",
       "      <td>...</td>\n",
       "      <td>0</td>\n",
       "      <td>0</td>\n",
       "      <td>0</td>\n",
       "      <td>0</td>\n",
       "      <td>0</td>\n",
       "      <td>0</td>\n",
       "      <td>40.744928</td>\n",
       "      <td>True</td>\n",
       "      <td>40.793597</td>\n",
       "      <td>1</td>\n",
       "    </tr>\n",
       "    <tr>\n",
       "      <th>514032</th>\n",
       "      <td>1.00</td>\n",
       "      <td>1168</td>\n",
       "      <td>True</td>\n",
       "      <td>0</td>\n",
       "      <td>0</td>\n",
       "      <td>0</td>\n",
       "      <td>0</td>\n",
       "      <td>0</td>\n",
       "      <td>0</td>\n",
       "      <td>0</td>\n",
       "      <td>...</td>\n",
       "      <td>0</td>\n",
       "      <td>0</td>\n",
       "      <td>0</td>\n",
       "      <td>0</td>\n",
       "      <td>0</td>\n",
       "      <td>1</td>\n",
       "      <td>40.729652</td>\n",
       "      <td>True</td>\n",
       "      <td>40.740333</td>\n",
       "      <td>1</td>\n",
       "    </tr>\n",
       "    <tr>\n",
       "      <th>514033</th>\n",
       "      <td>0.02</td>\n",
       "      <td>35</td>\n",
       "      <td>True</td>\n",
       "      <td>0</td>\n",
       "      <td>0</td>\n",
       "      <td>0</td>\n",
       "      <td>0</td>\n",
       "      <td>0</td>\n",
       "      <td>0</td>\n",
       "      <td>0</td>\n",
       "      <td>...</td>\n",
       "      <td>0</td>\n",
       "      <td>0</td>\n",
       "      <td>0</td>\n",
       "      <td>0</td>\n",
       "      <td>0</td>\n",
       "      <td>0</td>\n",
       "      <td>40.720245</td>\n",
       "      <td>True</td>\n",
       "      <td>40.720245</td>\n",
       "      <td>2</td>\n",
       "    </tr>\n",
       "    <tr>\n",
       "      <th>514034</th>\n",
       "      <td>19.00</td>\n",
       "      <td>3470</td>\n",
       "      <td>True</td>\n",
       "      <td>0</td>\n",
       "      <td>0</td>\n",
       "      <td>0</td>\n",
       "      <td>0</td>\n",
       "      <td>0</td>\n",
       "      <td>0</td>\n",
       "      <td>0</td>\n",
       "      <td>...</td>\n",
       "      <td>0</td>\n",
       "      <td>0</td>\n",
       "      <td>0</td>\n",
       "      <td>0</td>\n",
       "      <td>0</td>\n",
       "      <td>0</td>\n",
       "      <td>40.646194</td>\n",
       "      <td>True</td>\n",
       "      <td>40.785005</td>\n",
       "      <td>1</td>\n",
       "    </tr>\n",
       "  </tbody>\n",
       "</table>\n",
       "<p>5 rows × 31 columns</p>\n",
       "</div>"
      ],
      "text/plain": [
       "        trip_distance  trip_duration  IS_WEEKEND(dropoff_datetime)  \\\n",
       "id                                                                   \n",
       "514030           2.46           1039                          True   \n",
       "514031           7.90           1454                          True   \n",
       "514032           1.00           1168                          True   \n",
       "514033           0.02             35                          True   \n",
       "514034          19.00           3470                          True   \n",
       "\n",
       "        dropoff_neighborhood = D  dropoff_neighborhood = AA  \\\n",
       "id                                                            \n",
       "514030                         0                          0   \n",
       "514031                         0                          0   \n",
       "514032                         0                          0   \n",
       "514033                         0                          0   \n",
       "514034                         0                          0   \n",
       "\n",
       "        dropoff_neighborhood = H  dropoff_neighborhood = P  \\\n",
       "id                                                           \n",
       "514030                         0                         0   \n",
       "514031                         0                         0   \n",
       "514032                         0                         0   \n",
       "514033                         0                         0   \n",
       "514034                         0                         0   \n",
       "\n",
       "        dropoff_neighborhood = AR  dropoff_neighborhood = AD  \\\n",
       "id                                                             \n",
       "514030                          0                          0   \n",
       "514031                          0                          0   \n",
       "514032                          0                          0   \n",
       "514033                          0                          0   \n",
       "514034                          0                          0   \n",
       "\n",
       "        dropoff_neighborhood = A    ...      pickup_neighborhood = AO  \\\n",
       "id                                  ...                                 \n",
       "514030                         0    ...                             0   \n",
       "514031                         0    ...                             0   \n",
       "514032                         0    ...                             0   \n",
       "514033                         0    ...                             0   \n",
       "514034                         0    ...                             0   \n",
       "\n",
       "        pickup_neighborhood = AD  pickup_neighborhood = Q  \\\n",
       "id                                                          \n",
       "514030                         0                        0   \n",
       "514031                         0                        0   \n",
       "514032                         0                        0   \n",
       "514033                         0                        0   \n",
       "514034                         0                        0   \n",
       "\n",
       "        pickup_neighborhood = AR  pickup_neighborhood = AP  \\\n",
       "id                                                           \n",
       "514030                         0                         0   \n",
       "514031                         0                         0   \n",
       "514032                         0                         0   \n",
       "514033                         0                         0   \n",
       "514034                         0                         0   \n",
       "\n",
       "        pickup_neighborhood = H  pickup_neighborhoods.latitude  \\\n",
       "id                                                               \n",
       "514030                        0                      40.757707   \n",
       "514031                        0                      40.744928   \n",
       "514032                        1                      40.729652   \n",
       "514033                        0                      40.720245   \n",
       "514034                        0                      40.646194   \n",
       "\n",
       "        IS_WEEKEND(pickup_datetime)  dropoff_neighborhoods.latitude  vendor_id  \n",
       "id                                                                              \n",
       "514030                         True                       40.766809          2  \n",
       "514031                         True                       40.793597          1  \n",
       "514032                         True                       40.740333          1  \n",
       "514033                         True                       40.720245          2  \n",
       "514034                         True                       40.785005          1  \n",
       "\n",
       "[5 rows x 31 columns]"
      ]
     },
     "execution_count": 12,
     "metadata": {},
     "output_type": "execute_result"
    }
   ],
   "source": [
    "feature_matrix = compute_features(features, trips[['id', 'pickup_datetime']])\n",
    "preview(feature_matrix, 5)"
   ]
  },
  {
   "cell_type": "markdown",
   "metadata": {},
   "source": [
    "# First Model"
   ]
  },
  {
   "cell_type": "code",
   "execution_count": 13,
   "metadata": {
    "collapsed": true
   },
   "outputs": [],
   "source": [
    "# Split data\n",
    "X_train, y_train, X_test, y_test = utils.get_train_test_fm(feature_matrix,.75)\n",
    "y_train = np.log(y_train + 1)\n",
    "y_test = np.log(y_test + 1)"
   ]
  },
  {
   "cell_type": "code",
   "execution_count": 14,
   "metadata": {
    "collapsed": false
   },
   "outputs": [
    {
     "name": "stdout",
     "output_type": "stream",
     "text": [
      "      Iter       Train Loss   Remaining Time \n",
      "         1           0.4736           10.76s\n",
      "         2           0.4148           10.45s\n",
      "         3           0.3661           10.18s\n",
      "         4           0.3266           10.89s\n",
      "         5           0.2934           10.33s\n",
      "         6           0.2665           10.40s\n",
      "         7           0.2441           10.35s\n",
      "         8           0.2257           10.42s\n",
      "         9           0.2103           10.10s\n",
      "        10           0.1973           10.01s\n",
      "        20           0.1434            8.64s\n",
      "        30           0.1312            7.36s\n",
      "        40           0.1248            5.87s\n",
      "        50           0.1218            4.60s\n",
      "        60           0.1191            3.59s\n",
      "        70           0.1174            2.62s\n",
      "        80           0.1158            1.72s\n",
      "        90           0.1147            0.84s\n",
      "       100           0.1137            0.00s\n"
     ]
    },
    {
     "data": {
      "text/plain": [
       "0.7527788676087426"
      ]
     },
     "execution_count": 14,
     "metadata": {},
     "output_type": "execute_result"
    }
   ],
   "source": [
    "# This should train within a minute or so\n",
    "model = GradientBoostingRegressor(verbose=True)\n",
    "model.fit(X_train, y_train)\n",
    "model.score(X_test, y_test) # This is the R^2 value of the prediction"
   ]
  },
  {
   "cell_type": "markdown",
   "metadata": {},
   "source": [
    "<h1 style=\"color:red;\">QUESTION 2: FIRST MODEL</h1>"
   ]
  },
  {
   "cell_type": "markdown",
   "metadata": {},
   "source": [
    "**Describe the 2 new features that we added to the model. Do you think these improved the performance from a model that did not have these features? Why?**"
   ]
  },
  {
   "cell_type": "markdown",
   "metadata": {},
   "source": [
    "*Type your response here...*\n",
    "#### The 2 new features are : IS_WEEKEND(pickup_datetime) and IS_WEEKEND(dropoff_datetime). I think these two feature improved the performance. Because the trip duration in the weekend tend to be longer than weekdays. It's better to use this feature to make better prediction. "
   ]
  },
  {
   "cell_type": "markdown",
   "metadata": {},
   "source": [
    "# More Transform Primitives"
   ]
  },
  {
   "cell_type": "code",
   "execution_count": 15,
   "metadata": {
    "collapsed": true
   },
   "outputs": [],
   "source": [
    "trans_primitives = [Minute, Hour, Day, Week, Month, Weekday, Weekend]\n",
    "\n",
    "features = ft.dfs(entities=entities,\n",
    "                  relationships=relationships,\n",
    "                  target_entity=\"trips\",\n",
    "                  trans_primitives=trans_primitives,\n",
    "                  agg_primitives=[],\n",
    "                  ignore_variables={\"trips\": [\"pickup_latitude\", \"pickup_longitude\",\n",
    "                                              \"dropoff_latitude\", \"dropoff_longitude\"]},\n",
    "                  features_only=True)"
   ]
  },
  {
   "cell_type": "code",
   "execution_count": 16,
   "metadata": {
    "collapsed": false
   },
   "outputs": [
    {
     "name": "stdout",
     "output_type": "stream",
     "text": [
      "Number of features: 25\n"
     ]
    },
    {
     "data": {
      "text/plain": [
       "[<Feature: vendor_id>,\n",
       " <Feature: passenger_count>,\n",
       " <Feature: trip_distance>,\n",
       " <Feature: payment_type>,\n",
       " <Feature: trip_duration>,\n",
       " <Feature: pickup_neighborhood>,\n",
       " <Feature: dropoff_neighborhood>,\n",
       " <Feature: MINUTE(pickup_datetime)>,\n",
       " <Feature: MINUTE(dropoff_datetime)>,\n",
       " <Feature: HOUR(pickup_datetime)>,\n",
       " <Feature: HOUR(dropoff_datetime)>,\n",
       " <Feature: DAY(pickup_datetime)>,\n",
       " <Feature: DAY(dropoff_datetime)>,\n",
       " <Feature: WEEK(pickup_datetime)>,\n",
       " <Feature: WEEK(dropoff_datetime)>,\n",
       " <Feature: MONTH(pickup_datetime)>,\n",
       " <Feature: MONTH(dropoff_datetime)>,\n",
       " <Feature: WEEKDAY(pickup_datetime)>,\n",
       " <Feature: WEEKDAY(dropoff_datetime)>,\n",
       " <Feature: IS_WEEKEND(pickup_datetime)>,\n",
       " <Feature: IS_WEEKEND(dropoff_datetime)>,\n",
       " <Feature: pickup_neighborhoods.latitude>,\n",
       " <Feature: pickup_neighborhoods.longitude>,\n",
       " <Feature: dropoff_neighborhoods.latitude>,\n",
       " <Feature: dropoff_neighborhoods.longitude>]"
      ]
     },
     "execution_count": 16,
     "metadata": {},
     "output_type": "execute_result"
    }
   ],
   "source": [
    "print(f\"Number of features: {len(features)}\")\n",
    "features"
   ]
  },
  {
   "cell_type": "code",
   "execution_count": 17,
   "metadata": {
    "collapsed": false
   },
   "outputs": [
    {
     "name": "stdout",
     "output_type": "stream",
     "text": [
      "Elapsed: 00:03 | Remaining: 00:00 | Progress: 100%|██████████|| Calculated: 1/1 cutoff times\n",
      "Finishing computing...\n"
     ]
    },
    {
     "data": {
      "text/html": [
       "<div>\n",
       "<style>\n",
       "    .dataframe thead tr:only-child th {\n",
       "        text-align: right;\n",
       "    }\n",
       "\n",
       "    .dataframe thead th {\n",
       "        text-align: left;\n",
       "    }\n",
       "\n",
       "    .dataframe tbody tr th {\n",
       "        vertical-align: top;\n",
       "    }\n",
       "</style>\n",
       "<table border=\"1\" class=\"dataframe\">\n",
       "  <thead>\n",
       "    <tr style=\"text-align: right;\">\n",
       "      <th></th>\n",
       "      <th>IS_WEEKEND(dropoff_datetime)</th>\n",
       "      <th>dropoff_neighborhood = D</th>\n",
       "      <th>dropoff_neighborhood = AA</th>\n",
       "      <th>dropoff_neighborhood = H</th>\n",
       "      <th>dropoff_neighborhood = P</th>\n",
       "      <th>dropoff_neighborhood = AR</th>\n",
       "      <th>dropoff_neighborhood = AD</th>\n",
       "      <th>dropoff_neighborhood = A</th>\n",
       "      <th>dropoff_neighborhood = AB</th>\n",
       "      <th>dropoff_neighborhood = AV</th>\n",
       "      <th>...</th>\n",
       "      <th>WEEK(pickup_datetime)</th>\n",
       "      <th>trip_distance</th>\n",
       "      <th>MINUTE(pickup_datetime)</th>\n",
       "      <th>HOUR(pickup_datetime)</th>\n",
       "      <th>pickup_neighborhoods.latitude</th>\n",
       "      <th>payment_type</th>\n",
       "      <th>WEEKDAY(dropoff_datetime)</th>\n",
       "      <th>passenger_count</th>\n",
       "      <th>WEEKDAY(pickup_datetime)</th>\n",
       "      <th>DAY(pickup_datetime)</th>\n",
       "    </tr>\n",
       "    <tr>\n",
       "      <th>id</th>\n",
       "      <th></th>\n",
       "      <th></th>\n",
       "      <th></th>\n",
       "      <th></th>\n",
       "      <th></th>\n",
       "      <th></th>\n",
       "      <th></th>\n",
       "      <th></th>\n",
       "      <th></th>\n",
       "      <th></th>\n",
       "      <th></th>\n",
       "      <th></th>\n",
       "      <th></th>\n",
       "      <th></th>\n",
       "      <th></th>\n",
       "      <th></th>\n",
       "      <th></th>\n",
       "      <th></th>\n",
       "      <th></th>\n",
       "      <th></th>\n",
       "      <th></th>\n",
       "    </tr>\n",
       "  </thead>\n",
       "  <tbody>\n",
       "    <tr>\n",
       "      <th>514030</th>\n",
       "      <td>True</td>\n",
       "      <td>0</td>\n",
       "      <td>0</td>\n",
       "      <td>0</td>\n",
       "      <td>0</td>\n",
       "      <td>0</td>\n",
       "      <td>0</td>\n",
       "      <td>0</td>\n",
       "      <td>0</td>\n",
       "      <td>0</td>\n",
       "      <td>...</td>\n",
       "      <td>13</td>\n",
       "      <td>2.46</td>\n",
       "      <td>0</td>\n",
       "      <td>0</td>\n",
       "      <td>40.757707</td>\n",
       "      <td>1</td>\n",
       "      <td>5</td>\n",
       "      <td>1</td>\n",
       "      <td>5</td>\n",
       "      <td>2</td>\n",
       "    </tr>\n",
       "    <tr>\n",
       "      <th>514031</th>\n",
       "      <td>True</td>\n",
       "      <td>0</td>\n",
       "      <td>0</td>\n",
       "      <td>0</td>\n",
       "      <td>0</td>\n",
       "      <td>0</td>\n",
       "      <td>0</td>\n",
       "      <td>0</td>\n",
       "      <td>0</td>\n",
       "      <td>0</td>\n",
       "      <td>...</td>\n",
       "      <td>13</td>\n",
       "      <td>7.90</td>\n",
       "      <td>0</td>\n",
       "      <td>0</td>\n",
       "      <td>40.744928</td>\n",
       "      <td>1</td>\n",
       "      <td>5</td>\n",
       "      <td>2</td>\n",
       "      <td>5</td>\n",
       "      <td>2</td>\n",
       "    </tr>\n",
       "    <tr>\n",
       "      <th>514032</th>\n",
       "      <td>True</td>\n",
       "      <td>0</td>\n",
       "      <td>0</td>\n",
       "      <td>0</td>\n",
       "      <td>0</td>\n",
       "      <td>0</td>\n",
       "      <td>0</td>\n",
       "      <td>0</td>\n",
       "      <td>0</td>\n",
       "      <td>0</td>\n",
       "      <td>...</td>\n",
       "      <td>13</td>\n",
       "      <td>1.00</td>\n",
       "      <td>0</td>\n",
       "      <td>0</td>\n",
       "      <td>40.729652</td>\n",
       "      <td>1</td>\n",
       "      <td>5</td>\n",
       "      <td>1</td>\n",
       "      <td>5</td>\n",
       "      <td>2</td>\n",
       "    </tr>\n",
       "    <tr>\n",
       "      <th>514033</th>\n",
       "      <td>True</td>\n",
       "      <td>0</td>\n",
       "      <td>0</td>\n",
       "      <td>0</td>\n",
       "      <td>0</td>\n",
       "      <td>0</td>\n",
       "      <td>0</td>\n",
       "      <td>0</td>\n",
       "      <td>0</td>\n",
       "      <td>0</td>\n",
       "      <td>...</td>\n",
       "      <td>13</td>\n",
       "      <td>0.02</td>\n",
       "      <td>0</td>\n",
       "      <td>0</td>\n",
       "      <td>40.720245</td>\n",
       "      <td>2</td>\n",
       "      <td>5</td>\n",
       "      <td>1</td>\n",
       "      <td>5</td>\n",
       "      <td>2</td>\n",
       "    </tr>\n",
       "    <tr>\n",
       "      <th>514034</th>\n",
       "      <td>True</td>\n",
       "      <td>0</td>\n",
       "      <td>0</td>\n",
       "      <td>0</td>\n",
       "      <td>0</td>\n",
       "      <td>0</td>\n",
       "      <td>0</td>\n",
       "      <td>0</td>\n",
       "      <td>0</td>\n",
       "      <td>0</td>\n",
       "      <td>...</td>\n",
       "      <td>13</td>\n",
       "      <td>19.00</td>\n",
       "      <td>1</td>\n",
       "      <td>0</td>\n",
       "      <td>40.646194</td>\n",
       "      <td>1</td>\n",
       "      <td>5</td>\n",
       "      <td>2</td>\n",
       "      <td>5</td>\n",
       "      <td>2</td>\n",
       "    </tr>\n",
       "  </tbody>\n",
       "</table>\n",
       "<p>5 rows × 43 columns</p>\n",
       "</div>"
      ],
      "text/plain": [
       "        IS_WEEKEND(dropoff_datetime)  dropoff_neighborhood = D  \\\n",
       "id                                                               \n",
       "514030                          True                         0   \n",
       "514031                          True                         0   \n",
       "514032                          True                         0   \n",
       "514033                          True                         0   \n",
       "514034                          True                         0   \n",
       "\n",
       "        dropoff_neighborhood = AA  dropoff_neighborhood = H  \\\n",
       "id                                                            \n",
       "514030                          0                         0   \n",
       "514031                          0                         0   \n",
       "514032                          0                         0   \n",
       "514033                          0                         0   \n",
       "514034                          0                         0   \n",
       "\n",
       "        dropoff_neighborhood = P  dropoff_neighborhood = AR  \\\n",
       "id                                                            \n",
       "514030                         0                          0   \n",
       "514031                         0                          0   \n",
       "514032                         0                          0   \n",
       "514033                         0                          0   \n",
       "514034                         0                          0   \n",
       "\n",
       "        dropoff_neighborhood = AD  dropoff_neighborhood = A  \\\n",
       "id                                                            \n",
       "514030                          0                         0   \n",
       "514031                          0                         0   \n",
       "514032                          0                         0   \n",
       "514033                          0                         0   \n",
       "514034                          0                         0   \n",
       "\n",
       "        dropoff_neighborhood = AB  dropoff_neighborhood = AV  \\\n",
       "id                                                             \n",
       "514030                          0                          0   \n",
       "514031                          0                          0   \n",
       "514032                          0                          0   \n",
       "514033                          0                          0   \n",
       "514034                          0                          0   \n",
       "\n",
       "                ...           WEEK(pickup_datetime)  trip_distance  \\\n",
       "id              ...                                                  \n",
       "514030          ...                              13           2.46   \n",
       "514031          ...                              13           7.90   \n",
       "514032          ...                              13           1.00   \n",
       "514033          ...                              13           0.02   \n",
       "514034          ...                              13          19.00   \n",
       "\n",
       "        MINUTE(pickup_datetime)  HOUR(pickup_datetime)  \\\n",
       "id                                                       \n",
       "514030                        0                      0   \n",
       "514031                        0                      0   \n",
       "514032                        0                      0   \n",
       "514033                        0                      0   \n",
       "514034                        1                      0   \n",
       "\n",
       "        pickup_neighborhoods.latitude  payment_type  \\\n",
       "id                                                    \n",
       "514030                      40.757707             1   \n",
       "514031                      40.744928             1   \n",
       "514032                      40.729652             1   \n",
       "514033                      40.720245             2   \n",
       "514034                      40.646194             1   \n",
       "\n",
       "        WEEKDAY(dropoff_datetime)  passenger_count  WEEKDAY(pickup_datetime)  \\\n",
       "id                                                                             \n",
       "514030                          5                1                         5   \n",
       "514031                          5                2                         5   \n",
       "514032                          5                1                         5   \n",
       "514033                          5                1                         5   \n",
       "514034                          5                2                         5   \n",
       "\n",
       "        DAY(pickup_datetime)  \n",
       "id                            \n",
       "514030                     2  \n",
       "514031                     2  \n",
       "514032                     2  \n",
       "514033                     2  \n",
       "514034                     2  \n",
       "\n",
       "[5 rows x 43 columns]"
      ]
     },
     "execution_count": 17,
     "metadata": {},
     "output_type": "execute_result"
    }
   ],
   "source": [
    "feature_matrix = compute_features(features, trips[['id', 'pickup_datetime']])\n",
    "preview(feature_matrix, 5)"
   ]
  },
  {
   "cell_type": "code",
   "execution_count": 18,
   "metadata": {
    "collapsed": true
   },
   "outputs": [],
   "source": [
    "# Re-split data\n",
    "X_train, y_train, X_test, y_test = utils.get_train_test_fm(feature_matrix,.75)\n",
    "y_train = np.log(y_train + 1)\n",
    "y_test = np.log(y_test + 1)"
   ]
  },
  {
   "cell_type": "code",
   "execution_count": 19,
   "metadata": {
    "collapsed": false
   },
   "outputs": [
    {
     "name": "stdout",
     "output_type": "stream",
     "text": [
      "      Iter       Train Loss   Remaining Time \n",
      "         1           0.4736           15.40s\n",
      "         2           0.4148           16.26s\n",
      "         3           0.3661           15.33s\n",
      "         4           0.3264           15.03s\n",
      "         5           0.2930           14.71s\n",
      "         6           0.2660           14.20s\n",
      "         7           0.2432           13.73s\n",
      "         8           0.2245           13.43s\n",
      "         9           0.2090           13.25s\n",
      "        10           0.1960           12.95s\n",
      "        20           0.1362           11.02s\n",
      "        30           0.1200            9.45s\n",
      "        40           0.1126            7.75s\n",
      "        50           0.1079            6.25s\n",
      "        60           0.1047            4.86s\n",
      "        70           0.1016            3.66s\n",
      "        80           0.0986            2.38s\n",
      "        90           0.0938            1.16s\n",
      "       100           0.0899            0.00s\n"
     ]
    },
    {
     "data": {
      "text/plain": [
       "0.8059573190397493"
      ]
     },
     "execution_count": 19,
     "metadata": {},
     "output_type": "execute_result"
    }
   ],
   "source": [
    "# This should train within a minute or so\n",
    "model = GradientBoostingRegressor(verbose=True)\n",
    "model.fit(X_train, y_train)\n",
    "model.score(X_test, y_test) # This is the R^2 value of the prediction"
   ]
  },
  {
   "cell_type": "markdown",
   "metadata": {},
   "source": [
    "<h1 style=\"color:red;\">QUESTION 3: SECOND MODEL</h1>"
   ]
  },
  {
   "cell_type": "markdown",
   "metadata": {},
   "source": [
    "**Describe the rest of the new features that we just added to the model. How did this affect performance? Did we have to sacrifice training time?**"
   ]
  },
  {
   "cell_type": "markdown",
   "metadata": {},
   "source": [
    "*Type your response here...*\n",
    "#### There are a lot more features added to this model. For example, MINUTES, DAY, MONTH, WEEK, WEEKDAY. These new features improved the model performance. The R squre value is 0.81 which was 0.75 in previous model. There is no obvious difference in training time."
   ]
  },
  {
   "cell_type": "markdown",
   "metadata": {},
   "source": [
    "# Aggregation Primitives"
   ]
  },
  {
   "cell_type": "code",
   "execution_count": 20,
   "metadata": {
    "collapsed": true
   },
   "outputs": [],
   "source": [
    "trans_primitives = [Minute, Hour, Day, Week, Month, Weekday, Weekend]\n",
    "aggregation_primitives = [Count, Sum, Mean, Median, Std, Max, Min]\n",
    "\n",
    "features = ft.dfs(entities=entities,\n",
    "                  relationships=relationships,\n",
    "                  target_entity=\"trips\",\n",
    "                  trans_primitives=trans_primitives,\n",
    "                  agg_primitives=aggregation_primitives,\n",
    "                  ignore_variables={\"trips\": [\"pickup_latitude\", \"pickup_longitude\",\n",
    "                                              \"dropoff_latitude\", \"dropoff_longitude\"]},\n",
    "                  features_only=True)"
   ]
  },
  {
   "cell_type": "code",
   "execution_count": 21,
   "metadata": {
    "collapsed": false
   },
   "outputs": [
    {
     "name": "stdout",
     "output_type": "stream",
     "text": [
      "Number of features: 75\n"
     ]
    },
    {
     "data": {
      "text/plain": [
       "[<Feature: vendor_id>,\n",
       " <Feature: passenger_count>,\n",
       " <Feature: trip_distance>,\n",
       " <Feature: payment_type>,\n",
       " <Feature: trip_duration>,\n",
       " <Feature: pickup_neighborhood>,\n",
       " <Feature: dropoff_neighborhood>,\n",
       " <Feature: MINUTE(pickup_datetime)>,\n",
       " <Feature: MINUTE(dropoff_datetime)>,\n",
       " <Feature: HOUR(pickup_datetime)>,\n",
       " <Feature: HOUR(dropoff_datetime)>,\n",
       " <Feature: DAY(pickup_datetime)>,\n",
       " <Feature: DAY(dropoff_datetime)>,\n",
       " <Feature: WEEK(pickup_datetime)>,\n",
       " <Feature: WEEK(dropoff_datetime)>,\n",
       " <Feature: MONTH(pickup_datetime)>,\n",
       " <Feature: MONTH(dropoff_datetime)>,\n",
       " <Feature: WEEKDAY(pickup_datetime)>,\n",
       " <Feature: WEEKDAY(dropoff_datetime)>,\n",
       " <Feature: IS_WEEKEND(pickup_datetime)>,\n",
       " <Feature: IS_WEEKEND(dropoff_datetime)>,\n",
       " <Feature: pickup_neighborhoods.latitude>,\n",
       " <Feature: pickup_neighborhoods.longitude>,\n",
       " <Feature: dropoff_neighborhoods.latitude>,\n",
       " <Feature: dropoff_neighborhoods.longitude>,\n",
       " <Feature: pickup_neighborhoods.COUNT(trips)>,\n",
       " <Feature: pickup_neighborhoods.SUM(trips.vendor_id)>,\n",
       " <Feature: pickup_neighborhoods.SUM(trips.passenger_count)>,\n",
       " <Feature: pickup_neighborhoods.SUM(trips.trip_distance)>,\n",
       " <Feature: pickup_neighborhoods.SUM(trips.trip_duration)>,\n",
       " <Feature: pickup_neighborhoods.MEAN(trips.vendor_id)>,\n",
       " <Feature: pickup_neighborhoods.MEAN(trips.passenger_count)>,\n",
       " <Feature: pickup_neighborhoods.MEAN(trips.trip_distance)>,\n",
       " <Feature: pickup_neighborhoods.MEAN(trips.trip_duration)>,\n",
       " <Feature: pickup_neighborhoods.MEDIAN(trips.vendor_id)>,\n",
       " <Feature: pickup_neighborhoods.MEDIAN(trips.passenger_count)>,\n",
       " <Feature: pickup_neighborhoods.MEDIAN(trips.trip_distance)>,\n",
       " <Feature: pickup_neighborhoods.MEDIAN(trips.trip_duration)>,\n",
       " <Feature: pickup_neighborhoods.STD(trips.vendor_id)>,\n",
       " <Feature: pickup_neighborhoods.STD(trips.passenger_count)>,\n",
       " <Feature: pickup_neighborhoods.STD(trips.trip_distance)>,\n",
       " <Feature: pickup_neighborhoods.STD(trips.trip_duration)>,\n",
       " <Feature: pickup_neighborhoods.MAX(trips.vendor_id)>,\n",
       " <Feature: pickup_neighborhoods.MAX(trips.passenger_count)>,\n",
       " <Feature: pickup_neighborhoods.MAX(trips.trip_distance)>,\n",
       " <Feature: pickup_neighborhoods.MAX(trips.trip_duration)>,\n",
       " <Feature: pickup_neighborhoods.MIN(trips.vendor_id)>,\n",
       " <Feature: pickup_neighborhoods.MIN(trips.passenger_count)>,\n",
       " <Feature: pickup_neighborhoods.MIN(trips.trip_distance)>,\n",
       " <Feature: pickup_neighborhoods.MIN(trips.trip_duration)>,\n",
       " <Feature: dropoff_neighborhoods.COUNT(trips)>,\n",
       " <Feature: dropoff_neighborhoods.SUM(trips.vendor_id)>,\n",
       " <Feature: dropoff_neighborhoods.SUM(trips.passenger_count)>,\n",
       " <Feature: dropoff_neighborhoods.SUM(trips.trip_distance)>,\n",
       " <Feature: dropoff_neighborhoods.SUM(trips.trip_duration)>,\n",
       " <Feature: dropoff_neighborhoods.MEAN(trips.vendor_id)>,\n",
       " <Feature: dropoff_neighborhoods.MEAN(trips.passenger_count)>,\n",
       " <Feature: dropoff_neighborhoods.MEAN(trips.trip_distance)>,\n",
       " <Feature: dropoff_neighborhoods.MEAN(trips.trip_duration)>,\n",
       " <Feature: dropoff_neighborhoods.MEDIAN(trips.vendor_id)>,\n",
       " <Feature: dropoff_neighborhoods.MEDIAN(trips.passenger_count)>,\n",
       " <Feature: dropoff_neighborhoods.MEDIAN(trips.trip_distance)>,\n",
       " <Feature: dropoff_neighborhoods.MEDIAN(trips.trip_duration)>,\n",
       " <Feature: dropoff_neighborhoods.STD(trips.vendor_id)>,\n",
       " <Feature: dropoff_neighborhoods.STD(trips.passenger_count)>,\n",
       " <Feature: dropoff_neighborhoods.STD(trips.trip_distance)>,\n",
       " <Feature: dropoff_neighborhoods.STD(trips.trip_duration)>,\n",
       " <Feature: dropoff_neighborhoods.MAX(trips.vendor_id)>,\n",
       " <Feature: dropoff_neighborhoods.MAX(trips.passenger_count)>,\n",
       " <Feature: dropoff_neighborhoods.MAX(trips.trip_distance)>,\n",
       " <Feature: dropoff_neighborhoods.MAX(trips.trip_duration)>,\n",
       " <Feature: dropoff_neighborhoods.MIN(trips.vendor_id)>,\n",
       " <Feature: dropoff_neighborhoods.MIN(trips.passenger_count)>,\n",
       " <Feature: dropoff_neighborhoods.MIN(trips.trip_distance)>,\n",
       " <Feature: dropoff_neighborhoods.MIN(trips.trip_duration)>]"
      ]
     },
     "execution_count": 21,
     "metadata": {},
     "output_type": "execute_result"
    }
   ],
   "source": [
    "print(f\"Number of features: {len(features)}\")\n",
    "features"
   ]
  },
  {
   "cell_type": "code",
   "execution_count": 22,
   "metadata": {
    "collapsed": false
   },
   "outputs": [
    {
     "name": "stdout",
     "output_type": "stream",
     "text": [
      "Elapsed: 00:08 | Remaining: 00:00 | Progress: 100%|██████████|| Calculated: 1/1 cutoff times\n",
      "Finishing computing...\n"
     ]
    },
    {
     "data": {
      "text/html": [
       "<div>\n",
       "<style>\n",
       "    .dataframe thead tr:only-child th {\n",
       "        text-align: right;\n",
       "    }\n",
       "\n",
       "    .dataframe thead th {\n",
       "        text-align: left;\n",
       "    }\n",
       "\n",
       "    .dataframe tbody tr th {\n",
       "        vertical-align: top;\n",
       "    }\n",
       "</style>\n",
       "<table border=\"1\" class=\"dataframe\">\n",
       "  <thead>\n",
       "    <tr style=\"text-align: right;\">\n",
       "      <th></th>\n",
       "      <th>IS_WEEKEND(dropoff_datetime)</th>\n",
       "      <th>pickup_neighborhoods.MEDIAN(trips.trip_duration)</th>\n",
       "      <th>pickup_neighborhoods.STD(trips.trip_distance)</th>\n",
       "      <th>MONTH(pickup_datetime)</th>\n",
       "      <th>dropoff_neighborhoods.STD(trips.trip_duration)</th>\n",
       "      <th>WEEK(dropoff_datetime)</th>\n",
       "      <th>pickup_neighborhoods.longitude</th>\n",
       "      <th>pickup_neighborhoods.MIN(trips.passenger_count)</th>\n",
       "      <th>HOUR(pickup_datetime)</th>\n",
       "      <th>payment_type</th>\n",
       "      <th>...</th>\n",
       "      <th>pickup_neighborhood = AO</th>\n",
       "      <th>pickup_neighborhood = AD</th>\n",
       "      <th>pickup_neighborhood = Q</th>\n",
       "      <th>pickup_neighborhood = AR</th>\n",
       "      <th>pickup_neighborhood = AP</th>\n",
       "      <th>pickup_neighborhood = H</th>\n",
       "      <th>vendor_id</th>\n",
       "      <th>pickup_neighborhoods.SUM(trips.vendor_id)</th>\n",
       "      <th>DAY(dropoff_datetime)</th>\n",
       "      <th>dropoff_neighborhoods.MAX(trips.trip_duration)</th>\n",
       "    </tr>\n",
       "    <tr>\n",
       "      <th>id</th>\n",
       "      <th></th>\n",
       "      <th></th>\n",
       "      <th></th>\n",
       "      <th></th>\n",
       "      <th></th>\n",
       "      <th></th>\n",
       "      <th></th>\n",
       "      <th></th>\n",
       "      <th></th>\n",
       "      <th></th>\n",
       "      <th></th>\n",
       "      <th></th>\n",
       "      <th></th>\n",
       "      <th></th>\n",
       "      <th></th>\n",
       "      <th></th>\n",
       "      <th></th>\n",
       "      <th></th>\n",
       "      <th></th>\n",
       "      <th></th>\n",
       "      <th></th>\n",
       "    </tr>\n",
       "  </thead>\n",
       "  <tbody>\n",
       "    <tr>\n",
       "      <th>514030</th>\n",
       "      <td>True</td>\n",
       "      <td>NaN</td>\n",
       "      <td>NaN</td>\n",
       "      <td>4</td>\n",
       "      <td>NaN</td>\n",
       "      <td>13</td>\n",
       "      <td>-73.986446</td>\n",
       "      <td>NaN</td>\n",
       "      <td>0</td>\n",
       "      <td>1</td>\n",
       "      <td>...</td>\n",
       "      <td>0</td>\n",
       "      <td>0</td>\n",
       "      <td>0</td>\n",
       "      <td>0</td>\n",
       "      <td>0</td>\n",
       "      <td>0</td>\n",
       "      <td>2</td>\n",
       "      <td>NaN</td>\n",
       "      <td>2</td>\n",
       "      <td>NaN</td>\n",
       "    </tr>\n",
       "    <tr>\n",
       "      <th>514031</th>\n",
       "      <td>True</td>\n",
       "      <td>NaN</td>\n",
       "      <td>NaN</td>\n",
       "      <td>4</td>\n",
       "      <td>NaN</td>\n",
       "      <td>13</td>\n",
       "      <td>-73.919159</td>\n",
       "      <td>NaN</td>\n",
       "      <td>0</td>\n",
       "      <td>1</td>\n",
       "      <td>...</td>\n",
       "      <td>0</td>\n",
       "      <td>0</td>\n",
       "      <td>0</td>\n",
       "      <td>0</td>\n",
       "      <td>0</td>\n",
       "      <td>0</td>\n",
       "      <td>1</td>\n",
       "      <td>NaN</td>\n",
       "      <td>2</td>\n",
       "      <td>NaN</td>\n",
       "    </tr>\n",
       "    <tr>\n",
       "      <th>514032</th>\n",
       "      <td>True</td>\n",
       "      <td>NaN</td>\n",
       "      <td>NaN</td>\n",
       "      <td>4</td>\n",
       "      <td>NaN</td>\n",
       "      <td>13</td>\n",
       "      <td>-73.991595</td>\n",
       "      <td>NaN</td>\n",
       "      <td>0</td>\n",
       "      <td>1</td>\n",
       "      <td>...</td>\n",
       "      <td>0</td>\n",
       "      <td>0</td>\n",
       "      <td>0</td>\n",
       "      <td>0</td>\n",
       "      <td>0</td>\n",
       "      <td>1</td>\n",
       "      <td>1</td>\n",
       "      <td>NaN</td>\n",
       "      <td>2</td>\n",
       "      <td>NaN</td>\n",
       "    </tr>\n",
       "    <tr>\n",
       "      <th>514033</th>\n",
       "      <td>True</td>\n",
       "      <td>NaN</td>\n",
       "      <td>NaN</td>\n",
       "      <td>4</td>\n",
       "      <td>NaN</td>\n",
       "      <td>13</td>\n",
       "      <td>-73.987205</td>\n",
       "      <td>NaN</td>\n",
       "      <td>0</td>\n",
       "      <td>2</td>\n",
       "      <td>...</td>\n",
       "      <td>0</td>\n",
       "      <td>0</td>\n",
       "      <td>0</td>\n",
       "      <td>0</td>\n",
       "      <td>0</td>\n",
       "      <td>0</td>\n",
       "      <td>2</td>\n",
       "      <td>NaN</td>\n",
       "      <td>2</td>\n",
       "      <td>NaN</td>\n",
       "    </tr>\n",
       "    <tr>\n",
       "      <th>514034</th>\n",
       "      <td>True</td>\n",
       "      <td>NaN</td>\n",
       "      <td>NaN</td>\n",
       "      <td>4</td>\n",
       "      <td>NaN</td>\n",
       "      <td>13</td>\n",
       "      <td>-73.785073</td>\n",
       "      <td>NaN</td>\n",
       "      <td>0</td>\n",
       "      <td>1</td>\n",
       "      <td>...</td>\n",
       "      <td>0</td>\n",
       "      <td>0</td>\n",
       "      <td>0</td>\n",
       "      <td>0</td>\n",
       "      <td>0</td>\n",
       "      <td>0</td>\n",
       "      <td>1</td>\n",
       "      <td>NaN</td>\n",
       "      <td>2</td>\n",
       "      <td>NaN</td>\n",
       "    </tr>\n",
       "  </tbody>\n",
       "</table>\n",
       "<p>5 rows × 93 columns</p>\n",
       "</div>"
      ],
      "text/plain": [
       "        IS_WEEKEND(dropoff_datetime)  \\\n",
       "id                                     \n",
       "514030                          True   \n",
       "514031                          True   \n",
       "514032                          True   \n",
       "514033                          True   \n",
       "514034                          True   \n",
       "\n",
       "        pickup_neighborhoods.MEDIAN(trips.trip_duration)  \\\n",
       "id                                                         \n",
       "514030                                               NaN   \n",
       "514031                                               NaN   \n",
       "514032                                               NaN   \n",
       "514033                                               NaN   \n",
       "514034                                               NaN   \n",
       "\n",
       "        pickup_neighborhoods.STD(trips.trip_distance)  MONTH(pickup_datetime)  \\\n",
       "id                                                                              \n",
       "514030                                            NaN                       4   \n",
       "514031                                            NaN                       4   \n",
       "514032                                            NaN                       4   \n",
       "514033                                            NaN                       4   \n",
       "514034                                            NaN                       4   \n",
       "\n",
       "        dropoff_neighborhoods.STD(trips.trip_duration)  \\\n",
       "id                                                       \n",
       "514030                                             NaN   \n",
       "514031                                             NaN   \n",
       "514032                                             NaN   \n",
       "514033                                             NaN   \n",
       "514034                                             NaN   \n",
       "\n",
       "        WEEK(dropoff_datetime)  pickup_neighborhoods.longitude  \\\n",
       "id                                                               \n",
       "514030                      13                      -73.986446   \n",
       "514031                      13                      -73.919159   \n",
       "514032                      13                      -73.991595   \n",
       "514033                      13                      -73.987205   \n",
       "514034                      13                      -73.785073   \n",
       "\n",
       "        pickup_neighborhoods.MIN(trips.passenger_count)  \\\n",
       "id                                                        \n",
       "514030                                              NaN   \n",
       "514031                                              NaN   \n",
       "514032                                              NaN   \n",
       "514033                                              NaN   \n",
       "514034                                              NaN   \n",
       "\n",
       "        HOUR(pickup_datetime)  payment_type  \\\n",
       "id                                            \n",
       "514030                      0             1   \n",
       "514031                      0             1   \n",
       "514032                      0             1   \n",
       "514033                      0             2   \n",
       "514034                      0             1   \n",
       "\n",
       "                             ...                        \\\n",
       "id                           ...                         \n",
       "514030                       ...                         \n",
       "514031                       ...                         \n",
       "514032                       ...                         \n",
       "514033                       ...                         \n",
       "514034                       ...                         \n",
       "\n",
       "        pickup_neighborhood = AO  pickup_neighborhood = AD  \\\n",
       "id                                                           \n",
       "514030                         0                         0   \n",
       "514031                         0                         0   \n",
       "514032                         0                         0   \n",
       "514033                         0                         0   \n",
       "514034                         0                         0   \n",
       "\n",
       "        pickup_neighborhood = Q  pickup_neighborhood = AR  \\\n",
       "id                                                          \n",
       "514030                        0                         0   \n",
       "514031                        0                         0   \n",
       "514032                        0                         0   \n",
       "514033                        0                         0   \n",
       "514034                        0                         0   \n",
       "\n",
       "        pickup_neighborhood = AP  pickup_neighborhood = H  vendor_id  \\\n",
       "id                                                                     \n",
       "514030                         0                        0          2   \n",
       "514031                         0                        0          1   \n",
       "514032                         0                        1          1   \n",
       "514033                         0                        0          2   \n",
       "514034                         0                        0          1   \n",
       "\n",
       "        pickup_neighborhoods.SUM(trips.vendor_id)  DAY(dropoff_datetime)  \\\n",
       "id                                                                         \n",
       "514030                                        NaN                      2   \n",
       "514031                                        NaN                      2   \n",
       "514032                                        NaN                      2   \n",
       "514033                                        NaN                      2   \n",
       "514034                                        NaN                      2   \n",
       "\n",
       "        dropoff_neighborhoods.MAX(trips.trip_duration)  \n",
       "id                                                      \n",
       "514030                                             NaN  \n",
       "514031                                             NaN  \n",
       "514032                                             NaN  \n",
       "514033                                             NaN  \n",
       "514034                                             NaN  \n",
       "\n",
       "[5 rows x 93 columns]"
      ]
     },
     "execution_count": 22,
     "metadata": {},
     "output_type": "execute_result"
    }
   ],
   "source": [
    "# This may take a bit longer to compute, so please be patient\n",
    "feature_matrix = compute_features(features, trips[['id', 'pickup_datetime']])\n",
    "preview(feature_matrix, 5)"
   ]
  },
  {
   "cell_type": "code",
   "execution_count": 23,
   "metadata": {
    "collapsed": true
   },
   "outputs": [],
   "source": [
    "# Re-split data\n",
    "X_train, y_train, X_test, y_test = utils.get_train_test_fm(feature_matrix,.75)\n",
    "y_train = np.log(y_train + 1)\n",
    "y_test = np.log(y_test + 1)"
   ]
  },
  {
   "cell_type": "code",
   "execution_count": 24,
   "metadata": {
    "collapsed": false
   },
   "outputs": [
    {
     "name": "stdout",
     "output_type": "stream",
     "text": [
      "      Iter       Train Loss   Remaining Time \n",
      "         1           0.4736           13.81s\n",
      "         2           0.4148           13.43s\n",
      "         3           0.3661           13.21s\n",
      "         4           0.3264           13.52s\n",
      "         5           0.2930           13.21s\n",
      "         6           0.2660           12.98s\n",
      "         7           0.2432           12.97s\n",
      "         8           0.2245           13.06s\n",
      "         9           0.2090           12.96s\n",
      "        10           0.1960           12.74s\n",
      "        20           0.1362           10.72s\n",
      "        30           0.1200            8.87s\n",
      "        40           0.1126            7.17s\n",
      "        50           0.1079            5.75s\n",
      "        60           0.1047            4.47s\n",
      "        70           0.1016            3.27s\n",
      "        80           0.0986            2.13s\n",
      "        90           0.0938            1.04s\n",
      "       100           0.0899            0.00s\n"
     ]
    },
    {
     "data": {
      "text/plain": [
       "0.8060128240391375"
      ]
     },
     "execution_count": 24,
     "metadata": {},
     "output_type": "execute_result"
    }
   ],
   "source": [
    "# This should train within a minute or so\n",
    "model = GradientBoostingRegressor(verbose=True)\n",
    "model.fit(X_train, y_train)\n",
    "model.score(X_test, y_test) # This is the R^2 value of the prediction"
   ]
  },
  {
   "cell_type": "markdown",
   "metadata": {},
   "source": [
    "# Evaluate on Test Data"
   ]
  },
  {
   "cell_type": "code",
   "execution_count": 25,
   "metadata": {
    "collapsed": true
   },
   "outputs": [],
   "source": [
    "y_pred = model.predict(X_test)\n",
    "y_pred = np.exp(y_pred) - 1 # undo the log we took earlier"
   ]
  },
  {
   "cell_type": "code",
   "execution_count": 26,
   "metadata": {
    "collapsed": false
   },
   "outputs": [
    {
     "data": {
      "text/plain": [
       "array([453.4415368 , 666.8066337 , 634.00494622, 617.34019506,\n",
       "       407.96332751])"
      ]
     },
     "execution_count": 26,
     "metadata": {},
     "output_type": "execute_result"
    }
   ],
   "source": [
    "# Print the first 5 predictions\n",
    "y_pred[:5]"
   ]
  },
  {
   "cell_type": "code",
   "execution_count": 27,
   "metadata": {
    "collapsed": false
   },
   "outputs": [
    {
     "data": {
      "text/plain": [
       "(array([418., 739., 547., 301., 253., 100.,  61.,  40.,  29.,  12.]),\n",
       " array([  13.00778932,  284.36132154,  555.71485376,  827.06838598,\n",
       "        1098.4219182 , 1369.77545042, 1641.12898264, 1912.48251486,\n",
       "        2183.83604708, 2455.1895793 , 2726.54311152]),\n",
       " <a list of 10 Patch objects>)"
      ]
     },
     "execution_count": 27,
     "metadata": {},
     "output_type": "execute_result"
    },
    {
     "data": {
      "image/png": "[encoded data removed]",
      "text/plain": [
       "<matplotlib.figure.Figure at 0x7fe5d9080b70>"
      ]
     },
     "metadata": {},
     "output_type": "display_data"
    }
   ],
   "source": [
    "# Create a histogram of all of them\n",
    "matplotlib.pyplot.hist(y_pred)"
   ]
  },
  {
   "cell_type": "markdown",
   "metadata": {},
   "source": [
    "<h1 style=\"color:red;\">QUESTION 4: MODEL PREDICTIONS</h1>"
   ]
  },
  {
   "cell_type": "markdown",
   "metadata": {},
   "source": [
    "**Analyze the model predictions. Does the output distribution match the one you made earlier in the case study? What other features/strategies could we use to make our model even better, if we had more time?**"
   ]
  },
  {
   "cell_type": "markdown",
   "metadata": {},
   "source": [
    "*Type your response here...*\n",
    "#### The model prediction matches the original data. If we had more time, we need to further more select the features with more influence on the model, discard the features with little or no influence. "
   ]
  },
  {
   "cell_type": "markdown",
   "metadata": {},
   "source": [
    "# Feature Importance"
   ]
  },
  {
   "cell_type": "code",
   "execution_count": 28,
   "metadata": {
    "collapsed": false
   },
   "outputs": [
    {
     "name": "stdout",
     "output_type": "stream",
     "text": [
      "1: Feature: pickup_neighborhoods.MAX(trips.passenger_count), 0.325\n",
      "2: Feature: dropoff_neighborhoods.STD(trips.trip_duration), 0.107\n",
      "3: Feature: HOUR(pickup_datetime), 0.105\n",
      "4: Feature: MINUTE(dropoff_datetime), 0.085\n",
      "5: Feature: dropoff_neighborhoods.MEAN(trips.passenger_count), 0.070\n",
      "6: Feature: pickup_neighborhoods.longitude, 0.069\n",
      "7: Feature: MONTH(pickup_datetime), 0.062\n",
      "8: Feature: payment_type, 0.060\n",
      "9: Feature: dropoff_neighborhoods.MEDIAN(trips.vendor_id), 0.029\n",
      "10: Feature: WEEK(dropoff_datetime), 0.012\n",
      "11: Feature: pickup_neighborhoods.SUM(trips.trip_distance), 0.012\n",
      "12: Feature: IS_WEEKEND(pickup_datetime), 0.009\n",
      "13: Feature: pickup_neighborhoods.MIN(trips.trip_distance), 0.009\n",
      "14: Feature: dropoff_neighborhoods.STD(trips.passenger_count), 0.007\n",
      "15: Feature: dropoff_neighborhoods.MEAN(trips.trip_distance), 0.006\n",
      "16: Feature: dropoff_neighborhoods.MEDIAN(trips.trip_distance), 0.005\n",
      "17: Feature: dropoff_neighborhood = AA, 0.004\n",
      "18: Feature: dropoff_neighborhoods.MAX(trips.vendor_id), 0.003\n",
      "19: Feature: dropoff_neighborhoods.MEDIAN(trips.trip_duration), 0.003\n",
      "20: Feature: pickup_neighborhoods.SUM(trips.passenger_count), 0.003\n",
      "21: Feature: dropoff_neighborhoods.MEAN(trips.trip_duration), 0.002\n",
      "22: Feature: pickup_neighborhoods.latitude, 0.002\n",
      "23: Feature: dropoff_neighborhood = H, 0.002\n",
      "24: Feature: pickup_neighborhoods.MAX(trips.trip_duration), 0.002\n",
      "25: Feature: dropoff_neighborhoods.COUNT(trips), 0.002\n"
     ]
    }
   ],
   "source": [
    "feature_importances(model, feature_matrix.columns, n=25)"
   ]
  },
  {
   "cell_type": "markdown",
   "metadata": {},
   "source": [
    "<h1 style=\"color:red;\">QUESTION 5: FEATURE IMPORTANCE</h1>"
   ]
  },
  {
   "cell_type": "markdown",
   "metadata": {},
   "source": [
    "**Analyze the feature importance values you just computed above. Do they make sense? Are there any values you are surprised by? Give some brief explanations as to why these features are relevant in computing the `trip_duration` target variable.**"
   ]
  },
  {
   "cell_type": "markdown",
   "metadata": {},
   "source": [
    "*Type your response here...*\n",
    "#### It makes sense. It's surprise that MONTH is has a relative high influence. It is easy to understand that the trip duration is dominated by the pick up and drop off location. Because taxi tend to pick up more people in cetain area, such as comerical district. Also, the pick up hour has more inflence because most of trips happen during the rush hours of the day. "
   ]
  },
  {
   "cell_type": "markdown",
   "metadata": {},
   "source": [
    "<hr>"
   ]
  },
  {
   "cell_type": "markdown",
   "metadata": {},
   "source": [
    "Great job! Now, make sure you check out the **Conclusion** section of the [instruction manual](https://courses.edx.org/asset-v1:MITxPRO+DSx+2T2018+type@asset+block@6.1_instruction_manual.html) to wrap up this case study properly."
   ]
  }
 ],
 "metadata": {
  "kernelspec": {
   "display_name": "Python 3",
   "language": "python",
   "name": "python3"
  },
  "language_info": {
   "codemirror_mode": {
    "name": "ipython",
    "version": 3
   },
   "file_extension": ".py",
   "mimetype": "text/x-python",
   "name": "python",
   "nbconvert_exporter": "python",
   "pygments_lexer": "ipython3",
   "version": "3.6.0"
  }
 },
 "nbformat": 4,
 "nbformat_minor": 2
}
